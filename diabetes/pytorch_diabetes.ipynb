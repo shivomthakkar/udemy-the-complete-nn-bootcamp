{
 "cells": [
  {
   "cell_type": "code",
   "execution_count": 1,
   "id": "9912cc70-3503-4653-998b-9fff2f353ce4",
   "metadata": {},
   "outputs": [],
   "source": [
    "import numpy as np\n",
    "import pandas as pd\n",
    "\n",
    "import torch\n",
    "import torch.nn as nn\n",
    "from sklearn.preprocessing import StandardScaler"
   ]
  },
  {
   "cell_type": "code",
   "execution_count": 2,
   "id": "2cbbaeb3-e99f-410b-b7a2-ab154c880808",
   "metadata": {},
   "outputs": [
    {
     "data": {
      "text/html": [
       "<div>\n",
       "<style scoped>\n",
       "    .dataframe tbody tr th:only-of-type {\n",
       "        vertical-align: middle;\n",
       "    }\n",
       "\n",
       "    .dataframe tbody tr th {\n",
       "        vertical-align: top;\n",
       "    }\n",
       "\n",
       "    .dataframe thead th {\n",
       "        text-align: right;\n",
       "    }\n",
       "</style>\n",
       "<table border=\"1\" class=\"dataframe\">\n",
       "  <thead>\n",
       "    <tr style=\"text-align: right;\">\n",
       "      <th></th>\n",
       "      <th>Number of times pregnant</th>\n",
       "      <th>Plasma glucose concentration</th>\n",
       "      <th>Diastolic blood pressure</th>\n",
       "      <th>Triceps skin fold thickness</th>\n",
       "      <th>2-Hour serum insulin</th>\n",
       "      <th>Body mass index</th>\n",
       "      <th>Age</th>\n",
       "      <th>Class</th>\n",
       "    </tr>\n",
       "  </thead>\n",
       "  <tbody>\n",
       "    <tr>\n",
       "      <th>0</th>\n",
       "      <td>6</td>\n",
       "      <td>148</td>\n",
       "      <td>72</td>\n",
       "      <td>35</td>\n",
       "      <td>0</td>\n",
       "      <td>33.6</td>\n",
       "      <td>50</td>\n",
       "      <td>positive</td>\n",
       "    </tr>\n",
       "    <tr>\n",
       "      <th>1</th>\n",
       "      <td>1</td>\n",
       "      <td>85</td>\n",
       "      <td>66</td>\n",
       "      <td>29</td>\n",
       "      <td>0</td>\n",
       "      <td>26.6</td>\n",
       "      <td>31</td>\n",
       "      <td>negative</td>\n",
       "    </tr>\n",
       "    <tr>\n",
       "      <th>2</th>\n",
       "      <td>8</td>\n",
       "      <td>183</td>\n",
       "      <td>64</td>\n",
       "      <td>0</td>\n",
       "      <td>0</td>\n",
       "      <td>23.3</td>\n",
       "      <td>32</td>\n",
       "      <td>positive</td>\n",
       "    </tr>\n",
       "    <tr>\n",
       "      <th>3</th>\n",
       "      <td>1</td>\n",
       "      <td>89</td>\n",
       "      <td>66</td>\n",
       "      <td>23</td>\n",
       "      <td>94</td>\n",
       "      <td>28.1</td>\n",
       "      <td>21</td>\n",
       "      <td>negative</td>\n",
       "    </tr>\n",
       "    <tr>\n",
       "      <th>4</th>\n",
       "      <td>0</td>\n",
       "      <td>137</td>\n",
       "      <td>40</td>\n",
       "      <td>35</td>\n",
       "      <td>168</td>\n",
       "      <td>43.1</td>\n",
       "      <td>33</td>\n",
       "      <td>positive</td>\n",
       "    </tr>\n",
       "  </tbody>\n",
       "</table>\n",
       "</div>"
      ],
      "text/plain": [
       "   Number of times pregnant  Plasma glucose concentration  \\\n",
       "0                         6                           148   \n",
       "1                         1                            85   \n",
       "2                         8                           183   \n",
       "3                         1                            89   \n",
       "4                         0                           137   \n",
       "\n",
       "   Diastolic blood pressure  Triceps skin fold thickness  \\\n",
       "0                        72                           35   \n",
       "1                        66                           29   \n",
       "2                        64                            0   \n",
       "3                        66                           23   \n",
       "4                        40                           35   \n",
       "\n",
       "   2-Hour serum insulin  Body mass index  Age     Class  \n",
       "0                     0             33.6   50  positive  \n",
       "1                     0             26.6   31  negative  \n",
       "2                     0             23.3   32  positive  \n",
       "3                    94             28.1   21  negative  \n",
       "4                   168             43.1   33  positive  "
      ]
     },
     "execution_count": 2,
     "metadata": {},
     "output_type": "execute_result"
    }
   ],
   "source": [
    "# Downloaded from Kaggle - https://www.kaggle.com/datasets/uciml/pima-indians-diabetes-database\n",
    "df = pd.read_csv('diabetes.csv')\n",
    "\n",
    "# Let's see the df\n",
    "df.head()"
   ]
  },
  {
   "cell_type": "code",
   "execution_count": 3,
   "id": "d8856e62-fdc5-4f92-a786-9cc2023839b1",
   "metadata": {
    "scrolled": true
   },
   "outputs": [
    {
     "name": "stdout",
     "output_type": "stream",
     "text": [
      "x:\n",
      " [[  6.  148.   72.   35.    0.   33.6  50. ]\n",
      " [  1.   85.   66.   29.    0.   26.6  31. ]\n",
      " [  8.  183.   64.    0.    0.   23.3  32. ]]\n",
      "y:\n",
      " ['positive', 'negative', 'positive']\n",
      "y_int:\n",
      " [1, 0, 1]\n",
      "np y: [1. 0. 1.]\n"
     ]
    }
   ],
   "source": [
    "# The last column is the Y (target) label, and the other columns are the input variables. Let's split the df into X and Y accordingly.\n",
    "x = df.iloc[:,:-1].values\n",
    "y = list(df.iloc[:,-1])\n",
    "\n",
    "# Let's see this too\n",
    "print(\"x:\\n\", x[:3])\n",
    "print(\"y:\\n\", y[:3])\n",
    "\n",
    "# Convert the Y label into numeric form\n",
    "y_int = [int(row == 'positive') for row in y]\n",
    "print(\"y_int:\\n\", y_int[:3])\n",
    "\n",
    "# Convert the y_int into an np.array\n",
    "y = np.array(y_int, dtype = 'float64')\n",
    "print(\"np y:\", y[:3])"
   ]
  },
  {
   "cell_type": "code",
   "execution_count": 4,
   "id": "0b97d9bc-9cad-4c8b-af3b-d8d72ad8c77b",
   "metadata": {},
   "outputs": [
    {
     "name": "stdout",
     "output_type": "stream",
     "text": [
      "[[ 0.63994726  0.84832379  0.14964075  0.90726993 -0.69289057  0.20401277\n",
      "   1.4259954 ]\n",
      " [-0.84488505 -1.12339636 -0.16054575  0.53090156 -0.69289057 -0.68442195\n",
      "  -0.19067191]\n",
      " [ 1.23388019  1.94372388 -0.26394125 -1.28821221 -0.69289057 -1.10325546\n",
      "  -0.10558415]]\n"
     ]
    }
   ],
   "source": [
    "# Now let's normalize the features with the Standard Scaler to get them in the range of (-1, 1)\n",
    "sc = StandardScaler()\n",
    "x =  sc.fit_transform(x)\n",
    "\n",
    "print(x[:3])"
   ]
  },
  {
   "cell_type": "code",
   "execution_count": 5,
   "id": "444196ea-f797-44fa-955a-f3c2575c2fe6",
   "metadata": {},
   "outputs": [],
   "source": [
    "# Now we convert the arrays to PyTorch tensors\n",
    "x = torch.tensor(x)\n",
    "# We add an extra dimension to convert this array to 2D\n",
    "y = torch.tensor(y).unsqueeze(1)"
   ]
  },
  {
   "cell_type": "code",
   "execution_count": 6,
   "id": "9def10bc-9e77-4b20-9ebe-5e8e1d9fa609",
   "metadata": {},
   "outputs": [
    {
     "name": "stdout",
     "output_type": "stream",
     "text": [
      "torch.Size([768, 7])\n",
      "torch.Size([768, 1])\n"
     ]
    }
   ],
   "source": [
    "print(x.shape)\n",
    "print(y.shape)"
   ]
  },
  {
   "cell_type": "code",
   "execution_count": 7,
   "id": "1e715a90-ecf4-4ab6-b76d-3d8a4e697ee3",
   "metadata": {},
   "outputs": [],
   "source": [
    "class Dataset(torch.utils.data.Dataset):\n",
    "    def __init__(self,x,y):\n",
    "        self.x = x\n",
    "        self.y = y\n",
    "\n",
    "    def __getitem__(self,index):\n",
    "        # Get one item from the dataset\n",
    "        return self.x[index], self.y[index]\n",
    "    \n",
    "    def __len__(self):\n",
    "        return len(self.x)"
   ]
  },
  {
   "cell_type": "code",
   "execution_count": 8,
   "id": "e0a719e4-ec86-4013-ad1f-b7bbfcdc680d",
   "metadata": {},
   "outputs": [],
   "source": [
    "dataset = Dataset(x,y)"
   ]
  },
  {
   "cell_type": "code",
   "execution_count": 9,
   "id": "8fd6f2ea-ddb7-426a-ba4f-a35598b8fdcb",
   "metadata": {},
   "outputs": [
    {
     "data": {
      "text/plain": [
       "768"
      ]
     },
     "execution_count": 9,
     "metadata": {},
     "output_type": "execute_result"
    }
   ],
   "source": [
    "len(dataset)"
   ]
  },
  {
   "cell_type": "code",
   "execution_count": 10,
   "id": "f4325d02-262f-435f-bd76-f0641ac00b97",
   "metadata": {},
   "outputs": [],
   "source": [
    "# Load the data to your dataloader for batch processing and shuffling\n",
    "train_loader = torch.utils.data.DataLoader(dataset=dataset, \n",
    "                                           batch_size=32, \n",
    "                                           shuffle=True)"
   ]
  },
  {
   "cell_type": "code",
   "execution_count": 11,
   "id": "10f43153-376c-4462-8444-68aa9c11bfbb",
   "metadata": {},
   "outputs": [
    {
     "name": "stdout",
     "output_type": "stream",
     "text": [
      "There is 24 batches in the dataset\n",
      "For one iteration (batch), there is:\n",
      "Data:    torch.Size([32, 7])\n",
      "Labels:  torch.Size([32, 1])\n"
     ]
    }
   ],
   "source": [
    "print(\"There is {} batches in the dataset\".format(len(train_loader)))\n",
    "for (x,y) in train_loader:\n",
    "    print(\"For one iteration (batch), there is:\")\n",
    "    print(\"Data:    {}\".format(x.shape))\n",
    "    print(\"Labels:  {}\".format(y.shape))\n",
    "    break"
   ]
  },
  {
   "cell_type": "markdown",
   "id": "5e0b981a-1746-4e7f-ae45-a01aaf76f0ca",
   "metadata": {},
   "source": [
    "![network](https://user-images.githubusercontent.com/30661597/60379583-246e5e80-9a68-11e9-8b7f-a4294234c201.png)"
   ]
  },
  {
   "cell_type": "code",
   "execution_count": 12,
   "id": "57b1cd53-bafd-496a-83ca-c86e45c5663d",
   "metadata": {},
   "outputs": [],
   "source": [
    "class Model(nn.Module):\n",
    "    def __init__(self, input_features):\n",
    "        super(Model, self).__init__()\n",
    "        self.fc1 = nn.Linear(input_features, 5)\n",
    "        self.fc2 = nn.Linear(5, 4)\n",
    "        self.fc3 = nn.Linear(4, 3)\n",
    "        self.fc4 = nn.Linear(3, 1)\n",
    "        self.sigmoid = nn.Sigmoid()\n",
    "        self.tanh = nn.Tanh()\n",
    "\n",
    "    def forward(self, x):\n",
    "        out = self.fc1(x)\n",
    "        out = self.tanh(out)\n",
    "        out = self.fc2(out)\n",
    "        out = self.tanh(out)\n",
    "        out = self.fc3(out)\n",
    "        out = self.tanh(out)\n",
    "        out = self.fc4(out)\n",
    "        out = self.sigmoid(out)\n",
    "\n",
    "        return out"
   ]
  },
  {
   "cell_type": "code",
   "execution_count": 13,
   "id": "bf98a9ac-9f39-4d9b-96d2-0926bf5e594b",
   "metadata": {},
   "outputs": [
    {
     "name": "stderr",
     "output_type": "stream",
     "text": [
      "/Users/sthakkar.cw/Documents/Jupyter Notebooks/venv/lib/python3.12/site-packages/torch/nn/_reduction.py:51: UserWarning: size_average and reduce args will be deprecated, please use reduction='mean' instead.\n",
      "  warnings.warn(warning.format(ret))\n"
     ]
    }
   ],
   "source": [
    "net = Model(x.shape[1])\n",
    "\n",
    "criterion = torch.nn.BCELoss(size_average=True)\n",
    "optimizer = torch.optim.SGD(net.parameters(), lr=0.1, momentum=0.9)"
   ]
  },
  {
   "cell_type": "code",
   "execution_count": 14,
   "id": "e1030a72-b7f6-4ff7-ad75-c83ce8279098",
   "metadata": {
    "collapsed": true,
    "jupyter": {
     "outputs_hidden": true
    },
    "scrolled": true
   },
   "outputs": [
    {
     "name": "stdout",
     "output_type": "stream",
     "text": [
      "Epoch 1/200, Loss: 0.498, Accuracy: 0.812\n",
      "Epoch 2/200, Loss: 0.410, Accuracy: 0.844\n",
      "Epoch 3/200, Loss: 0.492, Accuracy: 0.781\n",
      "Epoch 4/200, Loss: 0.380, Accuracy: 0.875\n",
      "Epoch 5/200, Loss: 0.321, Accuracy: 0.875\n",
      "Epoch 6/200, Loss: 0.437, Accuracy: 0.750\n",
      "Epoch 7/200, Loss: 0.458, Accuracy: 0.719\n",
      "Epoch 8/200, Loss: 0.448, Accuracy: 0.750\n",
      "Epoch 9/200, Loss: 0.350, Accuracy: 0.844\n",
      "Epoch 10/200, Loss: 0.445, Accuracy: 0.750\n",
      "Epoch 11/200, Loss: 0.519, Accuracy: 0.781\n",
      "Epoch 12/200, Loss: 0.440, Accuracy: 0.750\n",
      "Epoch 13/200, Loss: 0.471, Accuracy: 0.719\n",
      "Epoch 14/200, Loss: 0.410, Accuracy: 0.781\n",
      "Epoch 15/200, Loss: 0.410, Accuracy: 0.812\n",
      "Epoch 16/200, Loss: 0.395, Accuracy: 0.875\n",
      "Epoch 17/200, Loss: 0.402, Accuracy: 0.812\n",
      "Epoch 18/200, Loss: 0.668, Accuracy: 0.719\n",
      "Epoch 19/200, Loss: 0.500, Accuracy: 0.750\n",
      "Epoch 20/200, Loss: 0.640, Accuracy: 0.625\n",
      "Epoch 21/200, Loss: 0.312, Accuracy: 0.875\n",
      "Epoch 22/200, Loss: 0.788, Accuracy: 0.562\n",
      "Epoch 23/200, Loss: 0.700, Accuracy: 0.656\n",
      "Epoch 24/200, Loss: 0.595, Accuracy: 0.719\n",
      "Epoch 25/200, Loss: 0.426, Accuracy: 0.781\n",
      "Epoch 26/200, Loss: 0.500, Accuracy: 0.750\n",
      "Epoch 27/200, Loss: 0.729, Accuracy: 0.719\n",
      "Epoch 28/200, Loss: 0.353, Accuracy: 0.844\n",
      "Epoch 29/200, Loss: 0.337, Accuracy: 0.844\n",
      "Epoch 30/200, Loss: 0.307, Accuracy: 0.875\n",
      "Epoch 31/200, Loss: 0.345, Accuracy: 0.906\n",
      "Epoch 32/200, Loss: 0.522, Accuracy: 0.781\n",
      "Epoch 33/200, Loss: 0.534, Accuracy: 0.719\n",
      "Epoch 34/200, Loss: 0.461, Accuracy: 0.719\n",
      "Epoch 35/200, Loss: 0.429, Accuracy: 0.875\n",
      "Epoch 36/200, Loss: 0.353, Accuracy: 0.812\n",
      "Epoch 37/200, Loss: 0.435, Accuracy: 0.750\n",
      "Epoch 38/200, Loss: 0.396, Accuracy: 0.750\n",
      "Epoch 39/200, Loss: 0.359, Accuracy: 0.781\n",
      "Epoch 40/200, Loss: 0.686, Accuracy: 0.719\n",
      "Epoch 41/200, Loss: 0.387, Accuracy: 0.781\n",
      "Epoch 42/200, Loss: 0.245, Accuracy: 0.906\n",
      "Epoch 43/200, Loss: 0.457, Accuracy: 0.750\n",
      "Epoch 44/200, Loss: 0.413, Accuracy: 0.781\n",
      "Epoch 45/200, Loss: 0.476, Accuracy: 0.781\n",
      "Epoch 46/200, Loss: 0.590, Accuracy: 0.656\n",
      "Epoch 47/200, Loss: 0.397, Accuracy: 0.844\n",
      "Epoch 48/200, Loss: 0.477, Accuracy: 0.750\n",
      "Epoch 49/200, Loss: 0.579, Accuracy: 0.688\n",
      "Epoch 50/200, Loss: 0.540, Accuracy: 0.719\n",
      "Epoch 51/200, Loss: 0.382, Accuracy: 0.844\n",
      "Epoch 52/200, Loss: 0.509, Accuracy: 0.719\n",
      "Epoch 53/200, Loss: 0.268, Accuracy: 0.844\n",
      "Epoch 54/200, Loss: 0.457, Accuracy: 0.750\n",
      "Epoch 55/200, Loss: 0.556, Accuracy: 0.719\n",
      "Epoch 56/200, Loss: 0.414, Accuracy: 0.750\n",
      "Epoch 57/200, Loss: 0.332, Accuracy: 0.812\n",
      "Epoch 58/200, Loss: 0.539, Accuracy: 0.688\n",
      "Epoch 59/200, Loss: 0.524, Accuracy: 0.688\n",
      "Epoch 60/200, Loss: 0.578, Accuracy: 0.812\n",
      "Epoch 61/200, Loss: 0.436, Accuracy: 0.781\n",
      "Epoch 62/200, Loss: 0.318, Accuracy: 0.875\n",
      "Epoch 63/200, Loss: 0.497, Accuracy: 0.781\n",
      "Epoch 64/200, Loss: 0.624, Accuracy: 0.594\n",
      "Epoch 65/200, Loss: 0.446, Accuracy: 0.688\n",
      "Epoch 66/200, Loss: 0.330, Accuracy: 0.812\n",
      "Epoch 67/200, Loss: 0.355, Accuracy: 0.812\n",
      "Epoch 68/200, Loss: 0.547, Accuracy: 0.750\n",
      "Epoch 69/200, Loss: 0.392, Accuracy: 0.812\n",
      "Epoch 70/200, Loss: 0.591, Accuracy: 0.656\n",
      "Epoch 71/200, Loss: 0.370, Accuracy: 0.812\n",
      "Epoch 72/200, Loss: 0.302, Accuracy: 0.812\n",
      "Epoch 73/200, Loss: 0.561, Accuracy: 0.562\n",
      "Epoch 74/200, Loss: 0.463, Accuracy: 0.719\n",
      "Epoch 75/200, Loss: 0.385, Accuracy: 0.812\n",
      "Epoch 76/200, Loss: 0.348, Accuracy: 0.812\n",
      "Epoch 77/200, Loss: 0.522, Accuracy: 0.719\n",
      "Epoch 78/200, Loss: 0.486, Accuracy: 0.625\n",
      "Epoch 79/200, Loss: 0.331, Accuracy: 0.844\n",
      "Epoch 80/200, Loss: 0.613, Accuracy: 0.625\n",
      "Epoch 81/200, Loss: 0.563, Accuracy: 0.688\n",
      "Epoch 82/200, Loss: 0.410, Accuracy: 0.719\n",
      "Epoch 83/200, Loss: 0.278, Accuracy: 0.844\n",
      "Epoch 84/200, Loss: 0.319, Accuracy: 0.875\n",
      "Epoch 85/200, Loss: 0.424, Accuracy: 0.750\n",
      "Epoch 86/200, Loss: 0.372, Accuracy: 0.812\n",
      "Epoch 87/200, Loss: 0.376, Accuracy: 0.812\n",
      "Epoch 88/200, Loss: 0.291, Accuracy: 0.875\n",
      "Epoch 89/200, Loss: 0.377, Accuracy: 0.844\n",
      "Epoch 90/200, Loss: 0.312, Accuracy: 0.875\n",
      "Epoch 91/200, Loss: 0.434, Accuracy: 0.750\n",
      "Epoch 92/200, Loss: 0.527, Accuracy: 0.750\n",
      "Epoch 93/200, Loss: 0.372, Accuracy: 0.750\n",
      "Epoch 94/200, Loss: 0.243, Accuracy: 0.906\n",
      "Epoch 95/200, Loss: 0.391, Accuracy: 0.781\n",
      "Epoch 96/200, Loss: 0.424, Accuracy: 0.812\n",
      "Epoch 97/200, Loss: 0.320, Accuracy: 0.875\n",
      "Epoch 98/200, Loss: 0.397, Accuracy: 0.844\n",
      "Epoch 99/200, Loss: 0.436, Accuracy: 0.812\n",
      "Epoch 100/200, Loss: 0.522, Accuracy: 0.688\n",
      "Epoch 101/200, Loss: 0.479, Accuracy: 0.719\n",
      "Epoch 102/200, Loss: 0.467, Accuracy: 0.656\n",
      "Epoch 103/200, Loss: 0.223, Accuracy: 0.938\n",
      "Epoch 104/200, Loss: 0.342, Accuracy: 0.812\n",
      "Epoch 105/200, Loss: 0.570, Accuracy: 0.625\n",
      "Epoch 106/200, Loss: 0.318, Accuracy: 0.750\n",
      "Epoch 107/200, Loss: 0.407, Accuracy: 0.719\n",
      "Epoch 108/200, Loss: 0.402, Accuracy: 0.844\n",
      "Epoch 109/200, Loss: 0.604, Accuracy: 0.656\n",
      "Epoch 110/200, Loss: 0.445, Accuracy: 0.812\n",
      "Epoch 111/200, Loss: 0.247, Accuracy: 0.875\n",
      "Epoch 112/200, Loss: 0.345, Accuracy: 0.906\n",
      "Epoch 113/200, Loss: 0.402, Accuracy: 0.844\n",
      "Epoch 114/200, Loss: 0.409, Accuracy: 0.781\n",
      "Epoch 115/200, Loss: 0.391, Accuracy: 0.875\n",
      "Epoch 116/200, Loss: 0.348, Accuracy: 0.812\n",
      "Epoch 117/200, Loss: 0.470, Accuracy: 0.812\n",
      "Epoch 118/200, Loss: 0.331, Accuracy: 0.938\n",
      "Epoch 119/200, Loss: 0.396, Accuracy: 0.844\n",
      "Epoch 120/200, Loss: 0.366, Accuracy: 0.750\n",
      "Epoch 121/200, Loss: 0.476, Accuracy: 0.781\n",
      "Epoch 122/200, Loss: 0.452, Accuracy: 0.688\n",
      "Epoch 123/200, Loss: 0.502, Accuracy: 0.875\n",
      "Epoch 124/200, Loss: 0.615, Accuracy: 0.625\n",
      "Epoch 125/200, Loss: 0.335, Accuracy: 0.812\n",
      "Epoch 126/200, Loss: 0.313, Accuracy: 0.875\n",
      "Epoch 127/200, Loss: 0.613, Accuracy: 0.812\n",
      "Epoch 128/200, Loss: 0.399, Accuracy: 0.781\n",
      "Epoch 129/200, Loss: 0.425, Accuracy: 0.750\n",
      "Epoch 130/200, Loss: 0.331, Accuracy: 0.781\n",
      "Epoch 131/200, Loss: 0.598, Accuracy: 0.750\n",
      "Epoch 132/200, Loss: 0.435, Accuracy: 0.875\n",
      "Epoch 133/200, Loss: 0.380, Accuracy: 0.812\n",
      "Epoch 134/200, Loss: 0.312, Accuracy: 0.812\n",
      "Epoch 135/200, Loss: 0.249, Accuracy: 0.781\n",
      "Epoch 136/200, Loss: 0.495, Accuracy: 0.750\n",
      "Epoch 137/200, Loss: 0.327, Accuracy: 0.844\n",
      "Epoch 138/200, Loss: 0.434, Accuracy: 0.875\n",
      "Epoch 139/200, Loss: 0.371, Accuracy: 0.812\n",
      "Epoch 140/200, Loss: 0.325, Accuracy: 0.844\n",
      "Epoch 141/200, Loss: 0.287, Accuracy: 0.844\n",
      "Epoch 142/200, Loss: 0.331, Accuracy: 0.906\n",
      "Epoch 143/200, Loss: 0.699, Accuracy: 0.625\n",
      "Epoch 144/200, Loss: 0.494, Accuracy: 0.656\n",
      "Epoch 145/200, Loss: 0.367, Accuracy: 0.812\n",
      "Epoch 146/200, Loss: 0.470, Accuracy: 0.719\n",
      "Epoch 147/200, Loss: 0.341, Accuracy: 0.906\n",
      "Epoch 148/200, Loss: 0.602, Accuracy: 0.750\n",
      "Epoch 149/200, Loss: 0.538, Accuracy: 0.781\n",
      "Epoch 150/200, Loss: 0.441, Accuracy: 0.719\n",
      "Epoch 151/200, Loss: 0.344, Accuracy: 0.781\n",
      "Epoch 152/200, Loss: 0.388, Accuracy: 0.781\n",
      "Epoch 153/200, Loss: 0.383, Accuracy: 0.844\n",
      "Epoch 154/200, Loss: 0.501, Accuracy: 0.625\n",
      "Epoch 155/200, Loss: 0.393, Accuracy: 0.844\n",
      "Epoch 156/200, Loss: 0.490, Accuracy: 0.812\n",
      "Epoch 157/200, Loss: 0.464, Accuracy: 0.812\n",
      "Epoch 158/200, Loss: 0.368, Accuracy: 0.875\n",
      "Epoch 159/200, Loss: 0.540, Accuracy: 0.719\n",
      "Epoch 160/200, Loss: 0.411, Accuracy: 0.844\n",
      "Epoch 161/200, Loss: 0.237, Accuracy: 0.938\n",
      "Epoch 162/200, Loss: 0.441, Accuracy: 0.875\n",
      "Epoch 163/200, Loss: 0.351, Accuracy: 0.844\n",
      "Epoch 164/200, Loss: 0.455, Accuracy: 0.719\n",
      "Epoch 165/200, Loss: 0.299, Accuracy: 0.875\n",
      "Epoch 166/200, Loss: 0.481, Accuracy: 0.781\n",
      "Epoch 167/200, Loss: 0.419, Accuracy: 0.750\n",
      "Epoch 168/200, Loss: 0.353, Accuracy: 0.844\n",
      "Epoch 169/200, Loss: 0.341, Accuracy: 0.812\n",
      "Epoch 170/200, Loss: 0.295, Accuracy: 0.844\n",
      "Epoch 171/200, Loss: 0.302, Accuracy: 0.938\n",
      "Epoch 172/200, Loss: 0.492, Accuracy: 0.750\n",
      "Epoch 173/200, Loss: 0.483, Accuracy: 0.750\n",
      "Epoch 174/200, Loss: 0.441, Accuracy: 0.844\n",
      "Epoch 175/200, Loss: 0.573, Accuracy: 0.719\n",
      "Epoch 176/200, Loss: 0.538, Accuracy: 0.750\n",
      "Epoch 177/200, Loss: 0.469, Accuracy: 0.750\n",
      "Epoch 178/200, Loss: 0.406, Accuracy: 0.781\n",
      "Epoch 179/200, Loss: 0.272, Accuracy: 0.844\n",
      "Epoch 180/200, Loss: 0.398, Accuracy: 0.812\n",
      "Epoch 181/200, Loss: 0.416, Accuracy: 0.812\n",
      "Epoch 182/200, Loss: 0.479, Accuracy: 0.750\n",
      "Epoch 183/200, Loss: 0.300, Accuracy: 0.812\n",
      "Epoch 184/200, Loss: 0.508, Accuracy: 0.781\n",
      "Epoch 185/200, Loss: 0.461, Accuracy: 0.750\n",
      "Epoch 186/200, Loss: 0.516, Accuracy: 0.719\n",
      "Epoch 187/200, Loss: 0.326, Accuracy: 0.906\n",
      "Epoch 188/200, Loss: 0.284, Accuracy: 0.906\n",
      "Epoch 189/200, Loss: 0.354, Accuracy: 0.875\n",
      "Epoch 190/200, Loss: 0.533, Accuracy: 0.750\n",
      "Epoch 191/200, Loss: 0.342, Accuracy: 0.844\n",
      "Epoch 192/200, Loss: 0.545, Accuracy: 0.812\n",
      "Epoch 193/200, Loss: 0.488, Accuracy: 0.750\n",
      "Epoch 194/200, Loss: 0.573, Accuracy: 0.625\n",
      "Epoch 195/200, Loss: 0.513, Accuracy: 0.719\n",
      "Epoch 196/200, Loss: 0.371, Accuracy: 0.844\n",
      "Epoch 197/200, Loss: 0.557, Accuracy: 0.750\n",
      "Epoch 198/200, Loss: 0.424, Accuracy: 0.844\n",
      "Epoch 199/200, Loss: 0.454, Accuracy: 0.781\n",
      "Epoch 200/200, Loss: 0.549, Accuracy: 0.719\n"
     ]
    }
   ],
   "source": [
    "num_epochs = 200\n",
    "\n",
    "for epoch in range(num_epochs):\n",
    "    for inputs, labels in train_loader:\n",
    "        inputs = inputs.float()\n",
    "        labels = labels.float()\n",
    "\n",
    "        output = net(inputs)\n",
    "\n",
    "        loss = criterion(output, labels)\n",
    "        optimizer.zero_grad()\n",
    "\n",
    "        loss.backward()\n",
    "        optimizer.step()\n",
    "\n",
    "    output = (output > 0.5).float()\n",
    "    accuracy = (output == labels).float().mean()\n",
    "\n",
    "    print(\"Epoch {}/{}, Loss: {:.3f}, Accuracy: {:.3f}\".format(epoch+1, num_epochs, loss, accuracy))"
   ]
  },
  {
   "cell_type": "code",
   "execution_count": 15,
   "id": "40bb0f6c-9394-4337-8063-de912d9b19e8",
   "metadata": {},
   "outputs": [
    {
     "name": "stderr",
     "output_type": "stream",
     "text": [
      "/Users/sthakkar.cw/Documents/Jupyter Notebooks/venv/lib/python3.12/site-packages/tqdm/auto.py:21: TqdmWarning: IProgress not found. Please update jupyter and ipywidgets. See https://ipywidgets.readthedocs.io/en/stable/user_install.html\n",
      "  from .autonotebook import tqdm as notebook_tqdm\n"
     ]
    }
   ],
   "source": [
    "from captum.attr import LayerConductance, IntegratedGradients, NeuronConductance"
   ]
  },
  {
   "cell_type": "code",
   "execution_count": 24,
   "id": "ac1375c3-9262-47f1-8d61-9d920eeb622f",
   "metadata": {},
   "outputs": [
    {
     "name": "stdout",
     "output_type": "stream",
     "text": [
      "Neuron 0 Contribution: 0.0003\n",
      "Neuron 1 Contribution: 0.0000\n",
      "Neuron 2 Contribution: -0.0687\n",
      "Neuron 3 Contribution: -0.5867\n"
     ]
    }
   ],
   "source": [
    "input_tensor = torch.tensor([[45, 1, 130, 85, 0, 0, 35.2]], dtype=torch.float32)  # example input\n",
    "target_class = 0  # Diabetes predicted as class 1\n",
    "\n",
    "# Choose the layer to analyze\n",
    "target_layer = net.fc2\n",
    "\n",
    "# Neuron conductance\n",
    "neuron_conductance = NeuronConductance(net, target_layer)\n",
    "contributions = []\n",
    "\n",
    "for neuron_index in range(target_layer.out_features):\n",
    "    attr = neuron_conductance.attribute(input_tensor, neuron_index, target=target_class)\n",
    "    contributions.append(attr.sum().item())\n",
    "\n",
    "for i, val in enumerate(contributions):\n",
    "    print(f\"Neuron {i} Contribution: {val:.4f}\")"
   ]
  },
  {
   "cell_type": "code",
   "execution_count": 27,
   "id": "483a11da-f039-4c24-a121-a3d1cad6801f",
   "metadata": {
    "collapsed": true,
    "jupyter": {
     "outputs_hidden": true
    }
   },
   "outputs": [
    {
     "ename": "RuntimeError",
     "evalue": "mat1 and mat2 must have the same dtype, but got Double and Float",
     "output_type": "error",
     "traceback": [
      "\u001b[31m---------------------------------------------------------------------------\u001b[39m",
      "\u001b[31mRuntimeError\u001b[39m                              Traceback (most recent call last)",
      "\u001b[36mCell\u001b[39m\u001b[36m \u001b[39m\u001b[32mIn[27]\u001b[39m\u001b[32m, line 12\u001b[39m\n\u001b[32m      9\u001b[39m inputs = x[:\u001b[32m100\u001b[39m]  \u001b[38;5;66;03m# shape: [N, 10]\u001b[39;00m\n\u001b[32m     11\u001b[39m \u001b[38;5;66;03m# Attribution of inputs to **entire fc2 layer**\u001b[39;00m\n\u001b[32m---> \u001b[39m\u001b[32m12\u001b[39m attributions = \u001b[43mlayer_cond\u001b[49m\u001b[43m.\u001b[49m\u001b[43mattribute\u001b[49m\u001b[43m(\u001b[49m\u001b[43minputs\u001b[49m\u001b[43m,\u001b[49m\u001b[43m \u001b[49m\u001b[43mtarget\u001b[49m\u001b[43m=\u001b[49m\u001b[38;5;28;43;01mNone\u001b[39;49;00m\u001b[43m)\u001b[49m  \u001b[38;5;66;03m# shape: [100, 4]\u001b[39;00m\n\u001b[32m     14\u001b[39m \u001b[38;5;66;03m# Backtrack: Use LayerConductance with a modified submodel to isolate a single neuron\u001b[39;00m\n\u001b[32m     15\u001b[39m neuron_weights = model.fc2.weight.detach()  \u001b[38;5;66;03m# shape [4, 8]\u001b[39;00m\n",
      "\u001b[36mFile \u001b[39m\u001b[32m~/Documents/Jupyter Notebooks/venv/lib/python3.12/site-packages/captum/log/dummy_log.py:39\u001b[39m, in \u001b[36mlog_usage.<locals>._log_usage.<locals>.wrapper\u001b[39m\u001b[34m(*args, **kwargs)\u001b[39m\n\u001b[32m     35\u001b[39m \u001b[38;5;129m@wraps\u001b[39m(func)\n\u001b[32m     36\u001b[39m \u001b[38;5;66;03m# pyre-fixme[53]: Captured variable `func` is not annotated.\u001b[39;00m\n\u001b[32m     37\u001b[39m \u001b[38;5;66;03m# pyre-fixme[3]: Return type must be annotated.\u001b[39;00m\n\u001b[32m     38\u001b[39m \u001b[38;5;28;01mdef\u001b[39;00m\u001b[38;5;250m \u001b[39m\u001b[34mwrapper\u001b[39m(*args: Any, **kwargs: Any):\n\u001b[32m---> \u001b[39m\u001b[32m39\u001b[39m     \u001b[38;5;28;01mreturn\u001b[39;00m \u001b[43mfunc\u001b[49m\u001b[43m(\u001b[49m\u001b[43m*\u001b[49m\u001b[43margs\u001b[49m\u001b[43m,\u001b[49m\u001b[43m \u001b[49m\u001b[43m*\u001b[49m\u001b[43m*\u001b[49m\u001b[43mkwargs\u001b[49m\u001b[43m)\u001b[49m\n",
      "\u001b[36mFile \u001b[39m\u001b[32m~/Documents/Jupyter Notebooks/venv/lib/python3.12/site-packages/captum/attr/_core/layer/layer_conductance.py:300\u001b[39m, in \u001b[36mLayerConductance.attribute\u001b[39m\u001b[34m(self, inputs, baselines, target, additional_forward_args, n_steps, method, internal_batch_size, return_convergence_delta, attribute_to_layer_input, grad_kwargs)\u001b[39m\n\u001b[32m    285\u001b[39m     attrs = _batch_attribution(\n\u001b[32m    286\u001b[39m         \u001b[38;5;28mself\u001b[39m,\n\u001b[32m    287\u001b[39m         num_examples,\n\u001b[32m   (...)\u001b[39m\u001b[32m    296\u001b[39m         attribute_to_layer_input=attribute_to_layer_input,\n\u001b[32m    297\u001b[39m     )\n\u001b[32m    299\u001b[39m \u001b[38;5;28;01melse\u001b[39;00m:\n\u001b[32m--> \u001b[39m\u001b[32m300\u001b[39m     attrs = \u001b[38;5;28;43mself\u001b[39;49m\u001b[43m.\u001b[49m\u001b[43m_attribute\u001b[49m\u001b[43m(\u001b[49m\n\u001b[32m    301\u001b[39m \u001b[43m        \u001b[49m\u001b[43minputs\u001b[49m\u001b[43m=\u001b[49m\u001b[43minputs\u001b[49m\u001b[43m,\u001b[49m\n\u001b[32m    302\u001b[39m \u001b[43m        \u001b[49m\u001b[43mbaselines\u001b[49m\u001b[43m=\u001b[49m\u001b[43mbaselines\u001b[49m\u001b[43m,\u001b[49m\n\u001b[32m    303\u001b[39m \u001b[43m        \u001b[49m\u001b[43mtarget\u001b[49m\u001b[43m=\u001b[49m\u001b[43mtarget\u001b[49m\u001b[43m,\u001b[49m\n\u001b[32m    304\u001b[39m \u001b[43m        \u001b[49m\u001b[43madditional_forward_args\u001b[49m\u001b[43m=\u001b[49m\u001b[43madditional_forward_args\u001b[49m\u001b[43m,\u001b[49m\n\u001b[32m    305\u001b[39m \u001b[43m        \u001b[49m\u001b[43mn_steps\u001b[49m\u001b[43m=\u001b[49m\u001b[43mn_steps\u001b[49m\u001b[43m,\u001b[49m\n\u001b[32m    306\u001b[39m \u001b[43m        \u001b[49m\u001b[43mmethod\u001b[49m\u001b[43m=\u001b[49m\u001b[43mmethod\u001b[49m\u001b[43m,\u001b[49m\n\u001b[32m    307\u001b[39m \u001b[43m        \u001b[49m\u001b[43mattribute_to_layer_input\u001b[49m\u001b[43m=\u001b[49m\u001b[43mattribute_to_layer_input\u001b[49m\u001b[43m,\u001b[49m\n\u001b[32m    308\u001b[39m \u001b[43m    \u001b[49m\u001b[43m)\u001b[49m\n\u001b[32m    310\u001b[39m is_layer_tuple = \u001b[38;5;28misinstance\u001b[39m(attrs, \u001b[38;5;28mtuple\u001b[39m)\n\u001b[32m    311\u001b[39m attributions = attrs \u001b[38;5;28;01mif\u001b[39;00m is_layer_tuple \u001b[38;5;28;01melse\u001b[39;00m (attrs,)\n",
      "\u001b[36mFile \u001b[39m\u001b[32m~/Documents/Jupyter Notebooks/venv/lib/python3.12/site-packages/captum/attr/_core/layer/layer_conductance.py:372\u001b[39m, in \u001b[36mLayerConductance._attribute\u001b[39m\u001b[34m(self, inputs, baselines, target, additional_forward_args, n_steps, method, attribute_to_layer_input, step_sizes_and_alphas, grad_kwargs)\u001b[39m\n\u001b[32m    365\u001b[39m expanded_target = _expand_target(target, n_steps + \u001b[32m1\u001b[39m)\n\u001b[32m    367\u001b[39m \u001b[38;5;66;03m# Conductance Gradients - Returns gradient of output with respect to\u001b[39;00m\n\u001b[32m    368\u001b[39m \u001b[38;5;66;03m# hidden layer and hidden layer evaluated at each input.\u001b[39;00m\n\u001b[32m    369\u001b[39m (\n\u001b[32m    370\u001b[39m     layer_gradients,\n\u001b[32m    371\u001b[39m     layer_evals,\n\u001b[32m--> \u001b[39m\u001b[32m372\u001b[39m ) = \u001b[43mcompute_layer_gradients_and_eval\u001b[49m\u001b[43m(\u001b[49m\n\u001b[32m    373\u001b[39m \u001b[43m    \u001b[49m\u001b[43mforward_fn\u001b[49m\u001b[43m=\u001b[49m\u001b[38;5;28;43mself\u001b[39;49m\u001b[43m.\u001b[49m\u001b[43mforward_func\u001b[49m\u001b[43m,\u001b[49m\n\u001b[32m    374\u001b[39m \u001b[43m    \u001b[49m\u001b[43mlayer\u001b[49m\u001b[43m=\u001b[49m\u001b[43mcast\u001b[49m\u001b[43m(\u001b[49m\u001b[43mModule\u001b[49m\u001b[43m,\u001b[49m\u001b[43m \u001b[49m\u001b[38;5;28;43mself\u001b[39;49m\u001b[43m.\u001b[49m\u001b[43mlayer\u001b[49m\u001b[43m)\u001b[49m\u001b[43m,\u001b[49m\n\u001b[32m    375\u001b[39m \u001b[43m    \u001b[49m\u001b[43minputs\u001b[49m\u001b[43m=\u001b[49m\u001b[43mscaled_features_tpl\u001b[49m\u001b[43m,\u001b[49m\n\u001b[32m    376\u001b[39m \u001b[43m    \u001b[49m\u001b[43madditional_forward_args\u001b[49m\u001b[43m=\u001b[49m\u001b[43minput_additional_args\u001b[49m\u001b[43m,\u001b[49m\n\u001b[32m    377\u001b[39m \u001b[43m    \u001b[49m\u001b[43mtarget_ind\u001b[49m\u001b[43m=\u001b[49m\u001b[43mexpanded_target\u001b[49m\u001b[43m,\u001b[49m\n\u001b[32m    378\u001b[39m \u001b[43m    \u001b[49m\u001b[43mdevice_ids\u001b[49m\u001b[43m=\u001b[49m\u001b[38;5;28;43mself\u001b[39;49m\u001b[43m.\u001b[49m\u001b[43mdevice_ids\u001b[49m\u001b[43m,\u001b[49m\n\u001b[32m    379\u001b[39m \u001b[43m    \u001b[49m\u001b[43mattribute_to_layer_input\u001b[49m\u001b[43m=\u001b[49m\u001b[43mattribute_to_layer_input\u001b[49m\u001b[43m,\u001b[49m\n\u001b[32m    380\u001b[39m \u001b[43m    \u001b[49m\u001b[43mgrad_kwargs\u001b[49m\u001b[43m=\u001b[49m\u001b[43mgrad_kwargs\u001b[49m\u001b[43m,\u001b[49m\n\u001b[32m    381\u001b[39m \u001b[43m\u001b[49m\u001b[43m)\u001b[49m\n\u001b[32m    383\u001b[39m \u001b[38;5;66;03m# Compute differences between consecutive evaluations of layer_eval.\u001b[39;00m\n\u001b[32m    384\u001b[39m \u001b[38;5;66;03m# This approximates the total input gradient of each step multiplied\u001b[39;00m\n\u001b[32m    385\u001b[39m \u001b[38;5;66;03m# by the step size.\u001b[39;00m\n\u001b[32m    386\u001b[39m grad_diffs = \u001b[38;5;28mtuple\u001b[39m(\n\u001b[32m    387\u001b[39m     layer_eval[num_examples:] - layer_eval[:-num_examples]\n\u001b[32m    388\u001b[39m     \u001b[38;5;28;01mfor\u001b[39;00m layer_eval \u001b[38;5;129;01min\u001b[39;00m layer_evals\n\u001b[32m    389\u001b[39m )\n",
      "\u001b[36mFile \u001b[39m\u001b[32m~/Documents/Jupyter Notebooks/venv/lib/python3.12/site-packages/captum/_utils/gradient.py:671\u001b[39m, in \u001b[36mcompute_layer_gradients_and_eval\u001b[39m\u001b[34m(forward_fn, layer, inputs, target_ind, additional_forward_args, gradient_neuron_selector, device_ids, attribute_to_layer_input, output_fn, grad_kwargs)\u001b[39m\n\u001b[32m    619\u001b[39m \u001b[38;5;250m\u001b[39m\u001b[33mr\u001b[39m\u001b[33;03m\"\"\"\u001b[39;00m\n\u001b[32m    620\u001b[39m \u001b[33;03mComputes gradients of the output with respect to a given layer as well\u001b[39;00m\n\u001b[32m    621\u001b[39m \u001b[33;03mas the output evaluation of the layer for an arbitrary forward function\u001b[39;00m\n\u001b[32m   (...)\u001b[39m\u001b[32m    666\u001b[39m \u001b[33;03m        Target layer output for given input.\u001b[39;00m\n\u001b[32m    667\u001b[39m \u001b[33;03m\"\"\"\u001b[39;00m\n\u001b[32m    668\u001b[39m \u001b[38;5;28;01mwith\u001b[39;00m torch.autograd.set_grad_enabled(\u001b[38;5;28;01mTrue\u001b[39;00m):\n\u001b[32m    669\u001b[39m     \u001b[38;5;66;03m# saved_layer is a dictionary mapping device to a tuple of\u001b[39;00m\n\u001b[32m    670\u001b[39m     \u001b[38;5;66;03m# layer evaluations on that device.\u001b[39;00m\n\u001b[32m--> \u001b[39m\u001b[32m671\u001b[39m     saved_layer, output = \u001b[43m_forward_layer_distributed_eval\u001b[49m\u001b[43m(\u001b[49m\n\u001b[32m    672\u001b[39m \u001b[43m        \u001b[49m\u001b[43mforward_fn\u001b[49m\u001b[43m,\u001b[49m\n\u001b[32m    673\u001b[39m \u001b[43m        \u001b[49m\u001b[43minputs\u001b[49m\u001b[43m,\u001b[49m\n\u001b[32m    674\u001b[39m \u001b[43m        \u001b[49m\u001b[43mlayer\u001b[49m\u001b[43m,\u001b[49m\n\u001b[32m    675\u001b[39m \u001b[43m        \u001b[49m\u001b[43mtarget_ind\u001b[49m\u001b[43m=\u001b[49m\u001b[43mtarget_ind\u001b[49m\u001b[43m,\u001b[49m\n\u001b[32m    676\u001b[39m \u001b[43m        \u001b[49m\u001b[43madditional_forward_args\u001b[49m\u001b[43m=\u001b[49m\u001b[43madditional_forward_args\u001b[49m\u001b[43m,\u001b[49m\n\u001b[32m    677\u001b[39m \u001b[43m        \u001b[49m\u001b[43mattribute_to_layer_input\u001b[49m\u001b[43m=\u001b[49m\u001b[43mattribute_to_layer_input\u001b[49m\u001b[43m,\u001b[49m\n\u001b[32m    678\u001b[39m \u001b[43m        \u001b[49m\u001b[43mforward_hook_with_return\u001b[49m\u001b[43m=\u001b[49m\u001b[38;5;28;43;01mTrue\u001b[39;49;00m\u001b[43m,\u001b[49m\n\u001b[32m    679\u001b[39m \u001b[43m        \u001b[49m\u001b[43mrequire_layer_grads\u001b[49m\u001b[43m=\u001b[49m\u001b[38;5;28;43;01mTrue\u001b[39;49;00m\u001b[43m,\u001b[49m\n\u001b[32m    680\u001b[39m \u001b[43m    \u001b[49m\u001b[43m)\u001b[49m\n\u001b[32m    681\u001b[39m     \u001b[38;5;28;01massert\u001b[39;00m output[\u001b[32m0\u001b[39m].numel() == \u001b[32m1\u001b[39m, (\n\u001b[32m    682\u001b[39m         \u001b[33m\"\u001b[39m\u001b[33mTarget not provided when necessary, cannot\u001b[39m\u001b[33m\"\u001b[39m\n\u001b[32m    683\u001b[39m         \u001b[33m\"\u001b[39m\u001b[33m take gradient with respect to multiple outputs.\u001b[39m\u001b[33m\"\u001b[39m\n\u001b[32m    684\u001b[39m     )\n\u001b[32m    686\u001b[39m     \u001b[38;5;66;03m# pyre-fixme[6]: For 2nd argument expected `Dict[Module, Dict[device,\u001b[39;00m\n\u001b[32m    687\u001b[39m     \u001b[38;5;66;03m#  typing.Tuple[Tensor, ...]]]` but got `Module`.\u001b[39;00m\n",
      "\u001b[36mFile \u001b[39m\u001b[32m~/Documents/Jupyter Notebooks/venv/lib/python3.12/site-packages/captum/_utils/gradient.py:339\u001b[39m, in \u001b[36m_forward_layer_distributed_eval\u001b[39m\u001b[34m(forward_fn, inputs, layer, target_ind, additional_forward_args, attribute_to_layer_input, forward_hook_with_return, require_layer_grads)\u001b[39m\n\u001b[32m    335\u001b[39m     \u001b[38;5;28;01melse\u001b[39;00m:\n\u001b[32m    336\u001b[39m         all_hooks.append(\n\u001b[32m    337\u001b[39m             single_layer.register_forward_hook(hook_wrapper(single_layer))\n\u001b[32m    338\u001b[39m         )\n\u001b[32m--> \u001b[39m\u001b[32m339\u001b[39m output = \u001b[43m_run_forward\u001b[49m\u001b[43m(\u001b[49m\n\u001b[32m    340\u001b[39m \u001b[43m    \u001b[49m\u001b[43mforward_fn\u001b[49m\u001b[43m,\u001b[49m\n\u001b[32m    341\u001b[39m \u001b[43m    \u001b[49m\u001b[43minputs\u001b[49m\u001b[43m,\u001b[49m\n\u001b[32m    342\u001b[39m \u001b[43m    \u001b[49m\u001b[43mtarget\u001b[49m\u001b[43m=\u001b[49m\u001b[43mtarget_ind\u001b[49m\u001b[43m,\u001b[49m\n\u001b[32m    343\u001b[39m \u001b[43m    \u001b[49m\u001b[43madditional_forward_args\u001b[49m\u001b[43m=\u001b[49m\u001b[43madditional_forward_args\u001b[49m\u001b[43m,\u001b[49m\n\u001b[32m    344\u001b[39m \u001b[43m\u001b[49m\u001b[43m)\u001b[49m\n\u001b[32m    345\u001b[39m \u001b[38;5;66;03m# _run_forward may return future of Tensor,\u001b[39;00m\n\u001b[32m    346\u001b[39m \u001b[38;5;66;03m# but we don't support it here now\u001b[39;00m\n\u001b[32m    347\u001b[39m \u001b[38;5;66;03m# And it will fail before here.\u001b[39;00m\n\u001b[32m    348\u001b[39m output = cast(Tensor, output)\n",
      "\u001b[36mFile \u001b[39m\u001b[32m~/Documents/Jupyter Notebooks/venv/lib/python3.12/site-packages/captum/_utils/common.py:588\u001b[39m, in \u001b[36m_run_forward\u001b[39m\u001b[34m(forward_func, inputs, target, additional_forward_args)\u001b[39m\n\u001b[32m    585\u001b[39m inputs = _format_inputs(inputs)\n\u001b[32m    586\u001b[39m additional_forward_args = _format_additional_forward_args(additional_forward_args)\n\u001b[32m--> \u001b[39m\u001b[32m588\u001b[39m output = \u001b[43mforward_func\u001b[49m\u001b[43m(\u001b[49m\n\u001b[32m    589\u001b[39m \u001b[43m    \u001b[49m\u001b[43m*\u001b[49m\u001b[43m(\u001b[49m\n\u001b[32m    590\u001b[39m \u001b[43m        \u001b[49m\u001b[38;5;66;43;03m# pyre-fixme[60]: Concatenation not yet support for multiple variadic\u001b[39;49;00m\n\u001b[32m    591\u001b[39m \u001b[43m        \u001b[49m\u001b[38;5;66;43;03m#  tuples: `*inputs, *additional_forward_args`.\u001b[39;49;00m\n\u001b[32m    592\u001b[39m \u001b[43m        \u001b[49m\u001b[43m(\u001b[49m\u001b[43m*\u001b[49m\u001b[43minputs\u001b[49m\u001b[43m,\u001b[49m\u001b[43m \u001b[49m\u001b[43m*\u001b[49m\u001b[43madditional_forward_args\u001b[49m\u001b[43m)\u001b[49m\n\u001b[32m    593\u001b[39m \u001b[43m        \u001b[49m\u001b[38;5;28;43;01mif\u001b[39;49;00m\u001b[43m \u001b[49m\u001b[43madditional_forward_args\u001b[49m\u001b[43m \u001b[49m\u001b[38;5;129;43;01mis\u001b[39;49;00m\u001b[43m \u001b[49m\u001b[38;5;129;43;01mnot\u001b[39;49;00m\u001b[43m \u001b[49m\u001b[38;5;28;43;01mNone\u001b[39;49;00m\n\u001b[32m    594\u001b[39m \u001b[43m        \u001b[49m\u001b[38;5;28;43;01melse\u001b[39;49;00m\u001b[43m \u001b[49m\u001b[43minputs\u001b[49m\n\u001b[32m    595\u001b[39m \u001b[43m    \u001b[49m\u001b[43m)\u001b[49m\n\u001b[32m    596\u001b[39m \u001b[43m\u001b[49m\u001b[43m)\u001b[49m\n\u001b[32m    597\u001b[39m \u001b[38;5;28;01mif\u001b[39;00m \u001b[38;5;28misinstance\u001b[39m(output, torch.futures.Future):\n\u001b[32m    598\u001b[39m     \u001b[38;5;28;01mreturn\u001b[39;00m output.then(\u001b[38;5;28;01mlambda\u001b[39;00m x: _select_targets(x.value(), target))\n",
      "\u001b[36mFile \u001b[39m\u001b[32m~/Documents/Jupyter Notebooks/venv/lib/python3.12/site-packages/torch/nn/modules/module.py:1751\u001b[39m, in \u001b[36mModule._wrapped_call_impl\u001b[39m\u001b[34m(self, *args, **kwargs)\u001b[39m\n\u001b[32m   1749\u001b[39m     \u001b[38;5;28;01mreturn\u001b[39;00m \u001b[38;5;28mself\u001b[39m._compiled_call_impl(*args, **kwargs)  \u001b[38;5;66;03m# type: ignore[misc]\u001b[39;00m\n\u001b[32m   1750\u001b[39m \u001b[38;5;28;01melse\u001b[39;00m:\n\u001b[32m-> \u001b[39m\u001b[32m1751\u001b[39m     \u001b[38;5;28;01mreturn\u001b[39;00m \u001b[38;5;28;43mself\u001b[39;49m\u001b[43m.\u001b[49m\u001b[43m_call_impl\u001b[49m\u001b[43m(\u001b[49m\u001b[43m*\u001b[49m\u001b[43margs\u001b[49m\u001b[43m,\u001b[49m\u001b[43m \u001b[49m\u001b[43m*\u001b[49m\u001b[43m*\u001b[49m\u001b[43mkwargs\u001b[49m\u001b[43m)\u001b[49m\n",
      "\u001b[36mFile \u001b[39m\u001b[32m~/Documents/Jupyter Notebooks/venv/lib/python3.12/site-packages/torch/nn/modules/module.py:1762\u001b[39m, in \u001b[36mModule._call_impl\u001b[39m\u001b[34m(self, *args, **kwargs)\u001b[39m\n\u001b[32m   1757\u001b[39m \u001b[38;5;66;03m# If we don't have any hooks, we want to skip the rest of the logic in\u001b[39;00m\n\u001b[32m   1758\u001b[39m \u001b[38;5;66;03m# this function, and just call forward.\u001b[39;00m\n\u001b[32m   1759\u001b[39m \u001b[38;5;28;01mif\u001b[39;00m \u001b[38;5;129;01mnot\u001b[39;00m (\u001b[38;5;28mself\u001b[39m._backward_hooks \u001b[38;5;129;01mor\u001b[39;00m \u001b[38;5;28mself\u001b[39m._backward_pre_hooks \u001b[38;5;129;01mor\u001b[39;00m \u001b[38;5;28mself\u001b[39m._forward_hooks \u001b[38;5;129;01mor\u001b[39;00m \u001b[38;5;28mself\u001b[39m._forward_pre_hooks\n\u001b[32m   1760\u001b[39m         \u001b[38;5;129;01mor\u001b[39;00m _global_backward_pre_hooks \u001b[38;5;129;01mor\u001b[39;00m _global_backward_hooks\n\u001b[32m   1761\u001b[39m         \u001b[38;5;129;01mor\u001b[39;00m _global_forward_hooks \u001b[38;5;129;01mor\u001b[39;00m _global_forward_pre_hooks):\n\u001b[32m-> \u001b[39m\u001b[32m1762\u001b[39m     \u001b[38;5;28;01mreturn\u001b[39;00m \u001b[43mforward_call\u001b[49m\u001b[43m(\u001b[49m\u001b[43m*\u001b[49m\u001b[43margs\u001b[49m\u001b[43m,\u001b[49m\u001b[43m \u001b[49m\u001b[43m*\u001b[49m\u001b[43m*\u001b[49m\u001b[43mkwargs\u001b[49m\u001b[43m)\u001b[49m\n\u001b[32m   1764\u001b[39m result = \u001b[38;5;28;01mNone\u001b[39;00m\n\u001b[32m   1765\u001b[39m called_always_called_hooks = \u001b[38;5;28mset\u001b[39m()\n",
      "\u001b[36mCell\u001b[39m\u001b[36m \u001b[39m\u001b[32mIn[12]\u001b[39m\u001b[32m, line 12\u001b[39m, in \u001b[36mModel.forward\u001b[39m\u001b[34m(self, x)\u001b[39m\n\u001b[32m     11\u001b[39m \u001b[38;5;28;01mdef\u001b[39;00m\u001b[38;5;250m \u001b[39m\u001b[34mforward\u001b[39m(\u001b[38;5;28mself\u001b[39m, x):\n\u001b[32m---> \u001b[39m\u001b[32m12\u001b[39m     out = \u001b[38;5;28;43mself\u001b[39;49m\u001b[43m.\u001b[49m\u001b[43mfc1\u001b[49m\u001b[43m(\u001b[49m\u001b[43mx\u001b[49m\u001b[43m)\u001b[49m\n\u001b[32m     13\u001b[39m     out = \u001b[38;5;28mself\u001b[39m.tanh(out)\n\u001b[32m     14\u001b[39m     out = \u001b[38;5;28mself\u001b[39m.fc2(out)\n",
      "\u001b[36mFile \u001b[39m\u001b[32m~/Documents/Jupyter Notebooks/venv/lib/python3.12/site-packages/torch/nn/modules/module.py:1751\u001b[39m, in \u001b[36mModule._wrapped_call_impl\u001b[39m\u001b[34m(self, *args, **kwargs)\u001b[39m\n\u001b[32m   1749\u001b[39m     \u001b[38;5;28;01mreturn\u001b[39;00m \u001b[38;5;28mself\u001b[39m._compiled_call_impl(*args, **kwargs)  \u001b[38;5;66;03m# type: ignore[misc]\u001b[39;00m\n\u001b[32m   1750\u001b[39m \u001b[38;5;28;01melse\u001b[39;00m:\n\u001b[32m-> \u001b[39m\u001b[32m1751\u001b[39m     \u001b[38;5;28;01mreturn\u001b[39;00m \u001b[38;5;28;43mself\u001b[39;49m\u001b[43m.\u001b[49m\u001b[43m_call_impl\u001b[49m\u001b[43m(\u001b[49m\u001b[43m*\u001b[49m\u001b[43margs\u001b[49m\u001b[43m,\u001b[49m\u001b[43m \u001b[49m\u001b[43m*\u001b[49m\u001b[43m*\u001b[49m\u001b[43mkwargs\u001b[49m\u001b[43m)\u001b[49m\n",
      "\u001b[36mFile \u001b[39m\u001b[32m~/Documents/Jupyter Notebooks/venv/lib/python3.12/site-packages/torch/nn/modules/module.py:1762\u001b[39m, in \u001b[36mModule._call_impl\u001b[39m\u001b[34m(self, *args, **kwargs)\u001b[39m\n\u001b[32m   1757\u001b[39m \u001b[38;5;66;03m# If we don't have any hooks, we want to skip the rest of the logic in\u001b[39;00m\n\u001b[32m   1758\u001b[39m \u001b[38;5;66;03m# this function, and just call forward.\u001b[39;00m\n\u001b[32m   1759\u001b[39m \u001b[38;5;28;01mif\u001b[39;00m \u001b[38;5;129;01mnot\u001b[39;00m (\u001b[38;5;28mself\u001b[39m._backward_hooks \u001b[38;5;129;01mor\u001b[39;00m \u001b[38;5;28mself\u001b[39m._backward_pre_hooks \u001b[38;5;129;01mor\u001b[39;00m \u001b[38;5;28mself\u001b[39m._forward_hooks \u001b[38;5;129;01mor\u001b[39;00m \u001b[38;5;28mself\u001b[39m._forward_pre_hooks\n\u001b[32m   1760\u001b[39m         \u001b[38;5;129;01mor\u001b[39;00m _global_backward_pre_hooks \u001b[38;5;129;01mor\u001b[39;00m _global_backward_hooks\n\u001b[32m   1761\u001b[39m         \u001b[38;5;129;01mor\u001b[39;00m _global_forward_hooks \u001b[38;5;129;01mor\u001b[39;00m _global_forward_pre_hooks):\n\u001b[32m-> \u001b[39m\u001b[32m1762\u001b[39m     \u001b[38;5;28;01mreturn\u001b[39;00m \u001b[43mforward_call\u001b[49m\u001b[43m(\u001b[49m\u001b[43m*\u001b[49m\u001b[43margs\u001b[49m\u001b[43m,\u001b[49m\u001b[43m \u001b[49m\u001b[43m*\u001b[49m\u001b[43m*\u001b[49m\u001b[43mkwargs\u001b[49m\u001b[43m)\u001b[49m\n\u001b[32m   1764\u001b[39m result = \u001b[38;5;28;01mNone\u001b[39;00m\n\u001b[32m   1765\u001b[39m called_always_called_hooks = \u001b[38;5;28mset\u001b[39m()\n",
      "\u001b[36mFile \u001b[39m\u001b[32m~/Documents/Jupyter Notebooks/venv/lib/python3.12/site-packages/torch/nn/modules/linear.py:125\u001b[39m, in \u001b[36mLinear.forward\u001b[39m\u001b[34m(self, input)\u001b[39m\n\u001b[32m    124\u001b[39m \u001b[38;5;28;01mdef\u001b[39;00m\u001b[38;5;250m \u001b[39m\u001b[34mforward\u001b[39m(\u001b[38;5;28mself\u001b[39m, \u001b[38;5;28minput\u001b[39m: Tensor) -> Tensor:\n\u001b[32m--> \u001b[39m\u001b[32m125\u001b[39m     \u001b[38;5;28;01mreturn\u001b[39;00m \u001b[43mF\u001b[49m\u001b[43m.\u001b[49m\u001b[43mlinear\u001b[49m\u001b[43m(\u001b[49m\u001b[38;5;28;43minput\u001b[39;49m\u001b[43m,\u001b[49m\u001b[43m \u001b[49m\u001b[38;5;28;43mself\u001b[39;49m\u001b[43m.\u001b[49m\u001b[43mweight\u001b[49m\u001b[43m,\u001b[49m\u001b[43m \u001b[49m\u001b[38;5;28;43mself\u001b[39;49m\u001b[43m.\u001b[49m\u001b[43mbias\u001b[49m\u001b[43m)\u001b[49m\n",
      "\u001b[31mRuntimeError\u001b[39m: mat1 and mat2 must have the same dtype, but got Double and Float"
     ]
    }
   ],
   "source": [
    "from captum.attr import LayerConductance\n",
    "\n",
    "model = net\n",
    "\n",
    "# Define LayerConductance with respect to the intermediate layer (fc2)\n",
    "layer_cond = LayerConductance(model, model.fc2)\n",
    "\n",
    "# Analyze a single input or multiple inputs\n",
    "inputs = x[:100]  # shape: [N, 10]\n",
    "\n",
    "# Attribution of inputs to **entire fc2 layer**\n",
    "attributions = layer_cond.attribute(inputs, target=None)  # shape: [100, 4]\n",
    "\n",
    "# Backtrack: Use LayerConductance with a modified submodel to isolate a single neuron\n",
    "neuron_weights = model.fc2.weight.detach()  # shape [4, 8]\n",
    "feature_to_neuron = []\n",
    "\n",
    "for neuron_index in range(model.fc2.out_features):\n",
    "    # Get gradients for neuron N wrt input\n",
    "    neuron_attr = LayerConductance(model, model.fc2)\n",
    "    attr = neuron_attr.attribute(inputs, target=neuron_index)  # shape: [100, 10]\n",
    "    mean_attr = attr.mean(dim=0).detach().numpy()  # [10]\n",
    "    feature_to_neuron.append(mean_attr)\n",
    "\n",
    "import numpy as np\n",
    "import seaborn as sns\n",
    "import matplotlib.pyplot as plt\n",
    "\n",
    "# Convert to heatmap: rows = neurons, cols = input features\n",
    "heatmap_data = np.array(feature_to_neuron)  # shape [4, 10]\n",
    "plt.figure(figsize=(10, 4))\n",
    "sns.heatmap(heatmap_data, annot=True, cmap=\"coolwarm\", xticklabels=data.feature_names)\n",
    "plt.xlabel(\"Input Features\")\n",
    "plt.ylabel(\"Neuron Index (fc2)\")\n",
    "plt.title(\"Feature Influence on fc2 Neurons\")\n",
    "plt.show()"
   ]
  },
  {
   "cell_type": "code",
   "execution_count": null,
   "id": "e1eb339f-478f-4974-9030-f97d454c204d",
   "metadata": {},
   "outputs": [],
   "source": []
  }
 ],
 "metadata": {
  "kernelspec": {
   "display_name": "Python 3 (ipykernel)",
   "language": "python",
   "name": "python3"
  },
  "language_info": {
   "codemirror_mode": {
    "name": "ipython",
    "version": 3
   },
   "file_extension": ".py",
   "mimetype": "text/x-python",
   "name": "python",
   "nbconvert_exporter": "python",
   "pygments_lexer": "ipython3",
   "version": "3.12.9"
  }
 },
 "nbformat": 4,
 "nbformat_minor": 5
}
