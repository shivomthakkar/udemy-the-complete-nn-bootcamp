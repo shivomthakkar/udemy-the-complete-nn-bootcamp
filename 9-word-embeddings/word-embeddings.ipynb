{
 "cells": [
  {
   "cell_type": "code",
   "execution_count": 1,
   "id": "4cda03d8-8249-4f98-ae9d-f75e0dafb63a",
   "metadata": {},
   "outputs": [],
   "source": [
    "import torch\n",
    "import os\n",
    "import torch.nn as nn\n",
    "import numpy as np"
   ]
  },
  {
   "cell_type": "code",
   "execution_count": 2,
   "id": "582e3315-630e-485e-bb4d-d02611a12392",
   "metadata": {},
   "outputs": [],
   "source": [
    "# Create a Dictionary class to store tokens and their indices\n",
    "class Dictionary(object):\n",
    "    def __init__(self):\n",
    "        self.word2idx = {}\n",
    "        self.idx2word = {}\n",
    "        self.idx = 0\n",
    "\n",
    "    def add_word(self, word):\n",
    "        if word not in self.word2idx:\n",
    "            self.word2idx[word] = self.idx\n",
    "            self.idx2word[self.idx] = word\n",
    "            self.idx += 1\n",
    "\n",
    "    def __len__(self):\n",
    "        return len(self.word2idx)"
   ]
  },
  {
   "cell_type": "code",
   "execution_count": 3,
   "id": "b13dd729-3e41-4a4d-a438-7608544f5640",
   "metadata": {},
   "outputs": [],
   "source": [
    "# TextProcess to consume the given text and convert it into a tensors\n",
    "class TextProcess(object):\n",
    "    def __init__(self):\n",
    "        self.dictionary = Dictionary()\n",
    "\n",
    "    def get_data(self, path, batch_size=20):\n",
    "        lines = []\n",
    "        with open(path, 'r') as f:\n",
    "            lines = f.readlines()\n",
    "\n",
    "        tokens = 0  # The total no. of tokens in the file\n",
    "        for line in lines:\n",
    "            words = line.split() + ['<eos>']  # <eos> is a special token to signify the end-of-sentence\n",
    "            tokens += len(words)\n",
    "            for word in words:\n",
    "                self.dictionary.add_word(word)\n",
    "\n",
    "        \n",
    "        # A 1-D Tensor containing the index of all the words in the file\n",
    "        rep_tensor = torch.LongTensor(tokens)\n",
    "        index = 0\n",
    "        for line in lines:\n",
    "            words = line.split() + ['<eos>']\n",
    "            for word in words:\n",
    "                rep_tensor[index] = self.dictionary.word2idx[word]\n",
    "                index += 1\n",
    "\n",
    "        # Batch this data and trim what doesn't fit in the batches\n",
    "        num_batches = rep_tensor.shape[0] // batch_size\n",
    "        rep_tensor = rep_tensor[:(num_batches*batch_size)]\n",
    "\n",
    "        rep_tensor = rep_tensor.view(batch_size, -1)\n",
    "        return rep_tensor"
   ]
  },
  {
   "cell_type": "code",
   "execution_count": 4,
   "id": "9ad116d0-0349-4140-86d4-4a3d8732f718",
   "metadata": {},
   "outputs": [],
   "source": [
    "# Learning parameters\n",
    "embed_size = 128\n",
    "hidden_size = 1024\n",
    "num_layers = 2\n",
    "num_epochs = 20\n",
    "batch_size = 20\n",
    "timesteps = 30\n",
    "learning_rate = 0.002"
   ]
  },
  {
   "cell_type": "code",
   "execution_count": 5,
   "id": "573cad61-5596-4b11-8e9f-8189c67bbf06",
   "metadata": {},
   "outputs": [
    {
     "data": {
      "text/plain": [
       "torch.Size([20, 1484])"
      ]
     },
     "execution_count": 5,
     "metadata": {},
     "output_type": "execute_result"
    }
   ],
   "source": [
    "# Let's create the TextProcess object and load the data dictionary\n",
    "corpus = TextProcess()\n",
    "rep_tensor = corpus.get_data('alice.txt', batch_size)\n",
    "rep_tensor.shape"
   ]
  },
  {
   "cell_type": "code",
   "execution_count": 6,
   "id": "6f63fde7-e0a7-4a31-95a3-c184323a3bc0",
   "metadata": {},
   "outputs": [
    {
     "data": {
      "text/plain": [
       "5290"
      ]
     },
     "execution_count": 6,
     "metadata": {},
     "output_type": "execute_result"
    }
   ],
   "source": [
    "vocab_size = len(corpus.dictionary)\n",
    "vocab_size"
   ]
  },
  {
   "cell_type": "code",
   "execution_count": 7,
   "id": "1e46bdd9-a908-4605-9eb7-c30396a199fd",
   "metadata": {},
   "outputs": [
    {
     "data": {
      "text/plain": [
       "49"
      ]
     },
     "execution_count": 7,
     "metadata": {},
     "output_type": "execute_result"
    }
   ],
   "source": [
    "num_batches = rep_tensor.shape[1] // timesteps\n",
    "num_batches"
   ]
  },
  {
   "cell_type": "code",
   "execution_count": 8,
   "id": "cbe4b242-b30f-4a40-bed7-502fdc720479",
   "metadata": {},
   "outputs": [],
   "source": [
    "class TextGenerator(nn.Module):\n",
    "    def __init__(self, vocab_size, embed_size, hidden_size, num_layers):\n",
    "        super(TextGenerator, self).__init__()\n",
    "        \n",
    "        self.embed = nn.Embedding(vocab_size, embed_size)\n",
    "        self.lstm = nn.LSTM(embed_size, hidden_size, num_layers, batch_first=True)\n",
    "        self.linear = nn.Linear(hidden_size, vocab_size)\n",
    "\n",
    "    def forward(self, x, h):\n",
    "        # Embed the input\n",
    "        x = self.embed(x)\n",
    "\n",
    "        out, (h, c) = self.lstm(x, h)\n",
    "\n",
    "        # Flatten the input of the linear layer, \n",
    "        # From (batch_size, timestep, hidden_size) into (batch_size*timestep, hidden_size)\n",
    "        out = out.reshape(out.size(0)*out.size(1), out.size(2))\n",
    "\n",
    "        out = self.linear(out)\n",
    "        return out, (h, c)"
   ]
  },
  {
   "cell_type": "code",
   "execution_count": 9,
   "id": "6cb9ec5b-ab46-4f78-89d9-9bd9b6be7243",
   "metadata": {},
   "outputs": [],
   "source": [
    "# Create the model\n",
    "model = TextGenerator(vocab_size, embed_size, hidden_size, num_layers)"
   ]
  },
  {
   "cell_type": "code",
   "execution_count": 10,
   "id": "fb6309e0-f4b3-4b3a-8678-a86f2a1873d2",
   "metadata": {},
   "outputs": [],
   "source": [
    "loss_fn = nn.CrossEntropyLoss()\n",
    "optimizer = torch.optim.Adam(model.parameters(), lr=learning_rate)"
   ]
  },
  {
   "cell_type": "code",
   "execution_count": 11,
   "id": "a4a351af-2938-45d8-a5db-da6974bf30b7",
   "metadata": {},
   "outputs": [
    {
     "name": "stdout",
     "output_type": "stream",
     "text": [
      "Epoch [1/20], Loss: 8.5677\n",
      "Epoch [2/20], Loss: 6.2088\n",
      "Epoch [3/20], Loss: 5.8226\n",
      "Epoch [4/20], Loss: 5.5457\n",
      "Epoch [5/20], Loss: 5.3234\n",
      "Epoch [6/20], Loss: 4.9615\n",
      "Epoch [7/20], Loss: 4.6447\n",
      "Epoch [8/20], Loss: 4.3099\n",
      "Epoch [9/20], Loss: 4.0590\n",
      "Epoch [10/20], Loss: 3.7702\n",
      "Epoch [11/20], Loss: 3.6148\n",
      "Epoch [12/20], Loss: 3.3218\n",
      "Epoch [13/20], Loss: 2.9759\n",
      "Epoch [14/20], Loss: 2.7244\n",
      "Epoch [15/20], Loss: 2.3738\n",
      "Epoch [16/20], Loss: 1.9343\n",
      "Epoch [17/20], Loss: 1.6013\n",
      "Epoch [18/20], Loss: 1.2326\n",
      "Epoch [19/20], Loss: 0.9657\n",
      "Epoch [20/20], Loss: 0.6403\n"
     ]
    }
   ],
   "source": [
    "# Training the model\n",
    "for epoch in range(num_epochs):\n",
    "    # Initialize the hidden and cell states for the LSTM\n",
    "    states = (torch.zeros(num_layers, batch_size, hidden_size),\n",
    "             torch.zeros(num_layers, batch_size, hidden_size))\n",
    "\n",
    "\n",
    "    for i in range(0, rep_tensor.size(1) - timesteps, timesteps):\n",
    "        # Say rep_tensor is \"I like pizza\"\n",
    "        # If timestep is 8, inputs are \"I like p\"\n",
    "        # Then target embeddings are \" like pi\"\n",
    "        inputs = rep_tensor[:, i: i+timesteps]\n",
    "        targets = rep_tensor[:, (i+1): (i+1)+timesteps]\n",
    "        \n",
    "        outputs, _ = model(inputs, states)\n",
    "        loss = loss_fn(outputs, targets.reshape(-1))\n",
    "\n",
    "        # Backpropogate and update weights\n",
    "        model.zero_grad()\n",
    "        loss.backward()\n",
    "\n",
    "        # Clip the gradient to [-0.5, 0.5] to prevent the exploding gradient problem.\n",
    "        torch.nn.utils.clip_grad_norm_(model.parameters(), 0.5)\n",
    "        optimizer.step()\n",
    "\n",
    "        step = (i+1) // timesteps\n",
    "        if step % 100 == 0:\n",
    "            print(\"Epoch [{}/{}], Loss: {:.4f}\".format(epoch + 1, num_epochs, loss.item()))"
   ]
  },
  {
   "cell_type": "code",
   "execution_count": 12,
   "id": "8701021b-4be6-4a88-8182-bef37b16b67a",
   "metadata": {},
   "outputs": [
    {
     "name": "stdout",
     "output_type": "stream",
     "text": [
      "Sampled [100/500] words and save to results.txt\n",
      "Sampled [200/500] words and save to results.txt\n",
      "Sampled [300/500] words and save to results.txt\n",
      "Sampled [400/500] words and save to results.txt\n",
      "Sampled [500/500] words and save to results.txt\n"
     ]
    }
   ],
   "source": [
    "# Testing the model\n",
    "with torch.no_grad():\n",
    "    with open('results.txt', 'w') as f:\n",
    "        state = (torch.zeros(num_layers, 1, hidden_size),\n",
    "                 torch.zeros(num_layers, 1, hidden_size))\n",
    "\n",
    "        input = torch.randint(0, vocab_size, (1, )).long().unsqueeze(1)\n",
    "        \n",
    "        for i in range(500):\n",
    "            output, _ = model(input, state)\n",
    "            \n",
    "            prob = output.exp()\n",
    "            word_id = torch.multinomial(prob, num_samples=1).item()            \n",
    "            input.fill_(word_id)\n",
    "\n",
    "            word = corpus.dictionary.idx2word[word_id]\n",
    "            word = '\\n' if word == '<eos>' else word + ' '\n",
    "            f.write(word)\n",
    "\n",
    "            if (i + 1) % 100 == 0:\n",
    "                print(\"Sampled [{}/{}] words and save to {}\".format(i+1, 500, 'results.txt'))"
   ]
  }
 ],
 "metadata": {
  "kernelspec": {
   "display_name": "Python 3 (ipykernel)",
   "language": "python",
   "name": "python3"
  },
  "language_info": {
   "codemirror_mode": {
    "name": "ipython",
    "version": 3
   },
   "file_extension": ".py",
   "mimetype": "text/x-python",
   "name": "python",
   "nbconvert_exporter": "python",
   "pygments_lexer": "ipython3",
   "version": "3.12.9"
  }
 },
 "nbformat": 4,
 "nbformat_minor": 5
}
